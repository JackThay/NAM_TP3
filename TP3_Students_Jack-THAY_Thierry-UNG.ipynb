{
 "cells": [
  {
   "cell_type": "markdown",
   "metadata": {},
   "source": [
    "# Lab4 (Students version): robustness of a graph\n",
    "## Students:\n",
    "## Jack Thay - 21201079\n",
    "## Thierry Ung - 3804472\n",
    "\n",
    "We can use the following libraries."
   ]
  },
  {
   "cell_type": "code",
   "execution_count": 1,
   "metadata": {},
   "outputs": [
    {
     "name": "stdout",
     "output_type": "stream",
     "text": [
      "3.7.11 (default, Jul 27 2021, 09:42:29) [MSC v.1916 64 bit (AMD64)]\n"
     ]
    }
   ],
   "source": [
    "import matplotlib.pyplot as plt\n",
    "import math\n",
    "import sys\n",
    "import time # Used to measure our execution time\n",
    "import random\n",
    "\n",
    "from collections import deque\n",
    "\n",
    "print(sys.version)"
   ]
  },
  {
   "cell_type": "markdown",
   "metadata": {},
   "source": [
    "In this lab session, we investigate the notion of robustness of a graph: how well a graph remains connected when nodes disappear following random failures or degree-based failures."
   ]
  },
  {
   "cell_type": "markdown",
   "metadata": {},
   "source": [
    "## Exercise 1: preliminary work"
   ]
  },
  {
   "cell_type": "markdown",
   "metadata": {},
   "source": [
    "### Question 1\n",
    "\n",
    "Using the code seen in previous labs, load the following graph as a dictonary of lists:\n",
    "\n",
    "http://lioneltabourier.fr/documents/inet.txt"
   ]
  },
  {
   "cell_type": "code",
   "execution_count": 2,
   "metadata": {},
   "outputs": [],
   "source": [
    "# Code taken from our TP1\n",
    "\n",
    "def load_graph(filename):\n",
    "    # Initialize an empty dictionary for the adjacency list.\n",
    "    adjacency_list = {}\n",
    "    \n",
    "    # Open the specified file for reading.\n",
    "    with open(filename, 'r') as file:\n",
    "        # Loop through each line in the file.\n",
    "        for line in file:\n",
    "            # Check if the line does not start with '#' (comments)\n",
    "            if not line.startswith('#'):\n",
    "                # Split the line into two nodes representing an edge.\n",
    "                edge_info = line.strip().split()\n",
    "                node1, node2 = edge_info[0], edge_info[1]\n",
    "                # Check if node1 is not already in the adjacency list.\n",
    "                if node1 not in adjacency_list:\n",
    "                    # Initialize an empty list for node1 in the adjacency list.\n",
    "                    adjacency_list[node1] = []\n",
    "                # Check if node2 is not already in the adjacency list.\n",
    "                if node2 not in adjacency_list:\n",
    "                    # Initialize an empty list for node2 in the adjacency list.\n",
    "                    adjacency_list[node2] = []\n",
    "                # Add node2 to the adjacency list of node1 (representing an undirected edge).\n",
    "                adjacency_list[node1].append(node2)\n",
    "                # Add node1 to the adjacency list of node2 (since it's an undirected edge).\n",
    "                adjacency_list[node2].append(node1)\n",
    "\n",
    "    # Return the adjacency list representing the undirected graph.\n",
    "    return adjacency_list"
   ]
  },
  {
   "cell_type": "code",
   "execution_count": 3,
   "metadata": {},
   "outputs": [
    {
     "name": "stdout",
     "output_type": "stream",
     "text": [
      "Graph loaded in 0.03125 seconds\n"
     ]
    }
   ],
   "source": [
    "# Loading our inet_graph.txt into a variable for easier use down the line\n",
    "filename = 'inet.txt'\n",
    "start_time = time.time()\n",
    "inet_graph = load_graph(filename)\n",
    "print(f\"Graph loaded in {time.time() - start_time:.5f} seconds\")"
   ]
  },
  {
   "cell_type": "markdown",
   "metadata": {},
   "source": [
    "### Question 2\n",
    "\n",
    "Determine the size of the largest connected component (LCC) of a graph, and use the code to determine the size of the LCC of the example graph.\n",
    "\n",
    "Suggested implementation:\n",
    "\n",
    "- Create a function that takes a graph as input and outputs a dictionary of the connected component that each node belongs to. (This function is derived from a BFS).\n",
    "\n",
    "- Then, create another function which takes the dictionary of the connected components as input and computes the size of the largest connected component of the graph."
   ]
  },
  {
   "cell_type": "code",
   "execution_count": 4,
   "metadata": {},
   "outputs": [],
   "source": [
    "def bfs(graph, start_node):\n",
    "    # Initialize a set to keep track of visited nodes\n",
    "    visited = set()\n",
    "    # Initialize a deque (double-ended queue) with the starting node\n",
    "    queue = deque([start_node])\n",
    "    # Initialize a list to store the connected component (nodes visited during BFS)\n",
    "    component = []\n",
    "\n",
    "    # Main BFS loop\n",
    "    while queue:\n",
    "        # Get the current node from the front of the queue\n",
    "        current = queue.popleft()\n",
    "\n",
    "        # Check if the current node is in the graph\n",
    "        if current not in graph:\n",
    "            continue\n",
    "\n",
    "        # Check if the current node has not been visited\n",
    "        if current not in visited:\n",
    "            # Mark the current node as visited\n",
    "            visited.add(current)\n",
    "            # Add the current node to the connected component\n",
    "            component.append(current)\n",
    "            # Extend the queue with unvisited neighbors of the current node\n",
    "            queue.extend(node for node in graph[current] if node not in visited)\n",
    "\n",
    "    # Return the connected component\n",
    "    return component"
   ]
  },
  {
   "cell_type": "code",
   "execution_count": 5,
   "metadata": {},
   "outputs": [],
   "source": [
    "def connected_components(graph):\n",
    "    # Initialize a set to keep track of visited nodes\n",
    "    visited = set()\n",
    "    # Initialize a list to store connected components\n",
    "    components = []\n",
    "\n",
    "    # Iterate through all vertices in the graph\n",
    "    for node in graph:\n",
    "        # Check if the node has not been visited\n",
    "        if node not in visited:\n",
    "            # Use BFS to find the connected component starting from the current node\n",
    "            component = bfs(graph, node)\n",
    "            # Append the connected component to the list of components\n",
    "            components.append(component)\n",
    "            # Mark all nodes in the component as visited\n",
    "            visited.update(component)\n",
    "\n",
    "    # Return the list of connected components\n",
    "    return components"
   ]
  },
  {
   "cell_type": "code",
   "execution_count": 6,
   "metadata": {},
   "outputs": [],
   "source": [
    "def process_graph(graph):\n",
    "    start_time = time.time()\n",
    "    # Find the largest connected component\n",
    "    components = connected_components(graph)\n",
    "    largest_component = max(components, key=len)\n",
    "    \n",
    "    # Display the largest connected component\n",
    "    if len(largest_component) > 10:\n",
    "        print(f\"Largest connected component: {largest_component[:10]}...{largest_component[-10:]}\")\n",
    "    else:\n",
    "        print(f\"Largest connected component: {largest_component}\")\n",
    "    \n",
    "    print(f\"\\nSize of the largest connected component: {len(largest_component)}\")\n",
    "    print(\"\\nAll connected components:\")\n",
    "    \n",
    "    # Display all connected components\n",
    "    for i, component in enumerate(components, 1):\n",
    "        if len(component) > 10:\n",
    "            print(f\"Component {i}: {component[:10]}...{component[-10:]}\")\n",
    "        else:\n",
    "            print(f\"Component {i}: {component}\")\n",
    "    \n",
    "    print(f\"\\nConnected components found in {time.time() - start_time:.5f} seconds\")"
   ]
  },
  {
   "cell_type": "code",
   "execution_count": 7,
   "metadata": {},
   "outputs": [
    {
     "name": "stdout",
     "output_type": "stream",
     "text": [
      "Largest connected component: ['0', '1882', '7203', '5853', '6239', '1888', '7163', '7167', '7204', '7206']...['1715', '1717', '1718', '1719', '6903', '3950', '3948', '1714', '1716', '1713']\n",
      "\n",
      "Size of the largest connected component: 8557\n",
      "\n",
      "All connected components:\n",
      "Component 1: ['0', '1882', '7203', '5853', '6239', '1888', '7163', '7167', '7204', '7206']...['1715', '1717', '1718', '1719', '6903', '3950', '3948', '1714', '1716', '1713']\n",
      "Component 2: ['2', '7880', '7881', '7882', '7878', '7879']\n",
      "Component 3: ['19', '25', '3178', '3180', '3242', '28', '29', '27', '26']\n",
      "Component 4: ['20', '3253', '23', '22', '3235', '3177', '3179', '3256', '3250', '3236']...['3266', '3267', '3268', '3269', '3270', '3271', '3272', '3273', '3274', '3276']\n",
      "Component 5: ['24', '3252', '3246']\n",
      "Component 6: ['160', '161']\n",
      "Component 7: ['171', '172', '173', '4743', '174', '175', '176', '177', '178', '179']...['172', '173', '4743', '174', '175', '176', '177', '178', '179', '180']\n",
      "Component 8: ['184', '185', '4429']\n",
      "Component 9: ['204', '209']\n",
      "Component 10: ['211', '212']\n",
      "Component 11: ['213', '214']\n",
      "Component 12: ['215', '216', '217', '242', '243', '218', '219', '220', '221']\n",
      "Component 13: ['228', '244']\n",
      "Component 14: ['230', '231']\n",
      "Component 15: ['263', '266']\n",
      "Component 16: ['286', '288', '287']\n",
      "Component 17: ['412', '413']\n",
      "Component 18: ['497', '498', '499']\n",
      "Component 19: ['528', '536', '529', '530', '531', '537', '538', '532', '533', '534']...['529', '530', '531', '537', '538', '532', '533', '534', '535', '539']\n",
      "Component 20: ['943', '947', '948', '944', '945']\n",
      "Component 21: ['980', '981', '982', '983', '985', '986', '987', '984']\n",
      "Component 22: ['990', '991', '992']\n",
      "Component 23: ['995', '997', '996', '1000', '998', '999']\n",
      "Component 24: ['1016', '1056']\n",
      "Component 25: ['1024', '1025']\n",
      "Component 26: ['1058', '1059', '1060', '1061', '1062', '1063', '2556']\n",
      "Component 27: ['1064', '3488', '3489', '3490', '3492', '3495', '3496', '3497', '3498', '3486']...['3492', '3495', '3496', '3497', '3498', '3486', '3487', '3491', '3494', '3493']\n",
      "Component 28: ['1065', '1076', '1075']\n",
      "Component 29: ['1066', '1077', '1067', '1074']\n",
      "Component 30: ['1068', '1069']\n",
      "Component 31: ['1070', '4905', '4906', '4907', '4908', '7743', '3502', '3503', '3504', '3505']...['4907', '4908', '7743', '3502', '3503', '3504', '3505', '3506', '4435', '7744']\n",
      "Component 32: ['1071', '3409', '3410', '3411', '3407', '3408', '3404', '3405', '3406']\n",
      "Component 33: ['1072', '1073']\n",
      "Component 34: ['1316', '1324', '1317']\n",
      "Component 35: ['1487', '1488', '1489']\n",
      "Component 36: ['1589', '1590']\n",
      "Component 37: ['1593', '1594']\n",
      "Component 38: ['1617', '1618']\n",
      "Component 39: ['1623', '1624', '1625', '1626', '1628', '1632', '1636', '1627', '1629', '1630']...['1625', '1626', '1628', '1632', '1636', '1627', '1629', '1630', '1631', '1633']\n",
      "Component 40: ['1634', '1635']\n",
      "Component 41: ['1640', '1641', '1649', '1642', '1645', '1652', '1653', '1654', '1648', '1644']...['1642', '1645', '1652', '1653', '1654', '1648', '1644', '1646', '1647', '3458']\n",
      "Component 42: ['1656', '5468', '5469']\n",
      "Component 43: ['1658', '1660', '1661', '1659', '1667', '1669', '1671', '1672', '1673', '1674']...['1677', '1678', '1679', '1662', '1663', '1664', '1665', '1666', '1668', '1670']\n",
      "Component 44: ['1768', '1778', '1769', '1770', '1773', '1774', '1775', '1776', '1779', '1780']...['1780', '1781', '1782', '4761', '1784', '1785', '1786', '1787', '1771', '1772']\n",
      "Component 45: ['1777', '1783']\n",
      "Component 46: ['1817', '1824', '1825', '1826', '1827', '1828', '1829', '1830', '1831', '1832']...['1843', '1848', '1821', '1822', '1833', '1834', '1835', '1837', '1838', '1839']\n",
      "Component 47: ['1851', '1852']\n",
      "Component 48: ['1867', '1868', '1869', '1870']\n",
      "Component 49: ['1875', '1876']\n",
      "Component 50: ['1930', '1947', '1941', '1942', '1943', '1939', '1932', '1934', '1938', '1944']...['1934', '1938', '1944', '1945', '1946', '1931', '1933', '1936', '1940', '1937']\n",
      "Component 51: ['1948', '1951', '1950', '6335', '1952', '1953', '1954', '1957', '6338', '6256']...['1965', '1966', '6337', '1967', '1968', '6334', '4215', '6336', '4216', '6339']\n",
      "Component 52: ['1970', '1972', '1971']\n",
      "Component 53: ['1973', '1974', '1975']\n",
      "Component 54: ['2007', '6788']\n",
      "Component 55: ['2008', '2011', '2009', '2012', '2013']\n",
      "Component 56: ['2136', '2179']\n",
      "Component 57: ['2284', '2291', '2292', '2295', '2285', '2288', '2286', '2287']\n",
      "Component 58: ['2289', '2290']\n",
      "Component 59: ['2395', '6498']\n",
      "Component 60: ['2471', '2485', '2481', '2482', '2484', '2475', '2480', '2486', '2479', '2472']\n",
      "Component 61: ['2473', '2474', '2478']\n",
      "Component 62: ['2476', '6471', '6470', '6472']\n",
      "Component 63: ['2477', '2483']\n",
      "Component 64: ['2487', '2490', '2488', '2489', '2491', '2496', '2501', '2508', '2512', '2513']...['2532', '2533', '2534', '2536', '2542', '2547', '2549', '2550', '2551', '2552']\n",
      "Component 65: ['2564', '2567', '2565', '2566', '2568', '2569', '2570', '2571', '2573', '2574']...['2581', '2582', '2583', '2584', '2585', '2586', '2587', '2572', '2578', '2579']\n",
      "Component 66: ['2589', '2592', '2593', '2594', '2590', '2591', '2595', '2601', '2596', '2603']...['2593', '2594', '2590', '2591', '2595', '2601', '2596', '2603', '2602', '2600']\n",
      "Component 67: ['2597', '2598', '2599', '2604']\n",
      "Component 68: ['2605', '2606']\n",
      "Component 69: ['2607', '2608']\n",
      "Component 70: ['3183', '3254']\n",
      "Component 71: ['3184', '3185', '3188', '3186', '3187']\n",
      "Component 72: ['3191', '3210', '3211']\n",
      "Component 73: ['3200', '7768', '8616', '8618', '8617', '8615', '7767', '7770', '8614', '8681']...['8617', '8615', '7767', '7770', '8614', '8681', '8645', '8646', '7766', '7769']\n",
      "Component 74: ['3201', '4830']\n",
      "Component 75: ['3202', '3205', '3203', '3204', '3206']\n",
      "Component 76: ['3207', '3208', '3209']\n",
      "Component 77: ['3212', '3213']\n",
      "Component 78: ['3214', '3215', '3223', '3222', '3220', '3217', '3219', '3221', '3216', '3218']\n",
      "Component 79: ['3224', '3225', '3226', '3228', '3230', '3233', '5420', '3227', '3232', '5426']...['5435', '5438', '3442', '3450', '3451', '3452', '3453', '3454', '3455', '5437']\n",
      "Component 80: ['3241', '3243', '3251']\n",
      "Component 81: ['3412', '3413', '3414', '3415', '3416', '3417', '3418', '3419', '3420', '3422']...['3413', '3414', '3415', '3416', '3417', '3418', '3419', '3420', '3422', '3421']\n",
      "Component 82: ['3423', '3425', '3424', '5248', '5250', '3428', '5247', '5251']\n",
      "Component 83: ['3426', '3427', '5288', '5290', '5291', '5292', '5293', '5294', '3437', '5296']...['4321', '3438', '4313', '4316', '3433', '3434', '3435', '3432', '3429', '3439']\n",
      "Component 84: ['3507', '6871', '3508', '6873', '7762', '6870', '6872', '7096', '6977']\n",
      "Component 85: ['4020', '4021']\n",
      "Component 86: ['4188', '4189']\n",
      "Component 87: ['4190', '4191']\n",
      "Component 88: ['4192', '4193']\n",
      "Component 89: ['4194', '4197', '4195', '4196', '4198']\n",
      "Component 90: ['4209', '4212']\n",
      "Component 91: ['4258', '4260', '4261', '4262', '4263', '4264', '4265', '4266', '4267', '4268']...['4262', '4263', '4264', '4265', '4266', '4267', '4268', '4269', '4259', '4270']\n",
      "Component 92: ['4294', '4296', '4297', '4309', '4299', '4300', '4301', '4302', '4303', '4304']...['4301', '4302', '4303', '4304', '4308', '4295', '4298', '4306', '4307', '4305']\n",
      "Component 93: ['4317', '4318']\n",
      "Component 94: ['4381', '4389', '4382', '4383', '4384', '4385', '4386', '4387', '4388', '4390']...['4404', '4405', '4406', '4407', '4408', '4409', '4410', '4411', '4412', '4413']\n",
      "Component 95: ['4414', '4416', '4417', '4418', '4419', '4415']\n",
      "Component 96: ['4420', '4421']\n",
      "Component 97: ['4436', '4437']\n",
      "Component 98: ['4556', '4557']\n",
      "Component 99: ['4567', '6473', '6440', '6482', '6476', '6441', '6442', '6443', '6475', '6477']...['6447', '6448', '6455', '6446', '6467', '6468', '6469', '6456', '6465', '6466']\n",
      "Component 100: ['4581', '4582']\n",
      "Component 101: ['4898', '4899', '4900', '4901', '4902', '4903', '4904', '5333']\n",
      "Component 102: ['5106', '5107', '5108', '5117']\n",
      "Component 103: ['5118', '5119']\n",
      "Component 104: ['5144', '5160']\n",
      "Component 105: ['5260', '6882', '7155', '5261', '6880', '6883', '7156', '7157', '7158', '7159']...['7795', '7793', '7794', '6878', '6879', '5779', '5780', '6881', '7160', '6877']\n",
      "Component 106: ['5286', '5287']\n",
      "Component 107: ['5341', '5342']\n",
      "Component 108: ['5346', '5347']\n",
      "Component 109: ['5439', '5440']\n",
      "Component 110: ['5459', '5460', '5461', '5462', '5463', '5464', '5465', '5466', '5467', '7090']...['5461', '5462', '5463', '5464', '5465', '5466', '5467', '7090', '7088', '7089']\n",
      "Component 111: ['5494', '5498', '5495', '7775', '7774', '7773']\n",
      "Component 112: ['5867', '6958']\n",
      "Component 113: ['5946', '5947']\n",
      "Component 114: ['6008', '6009']\n",
      "Component 115: ['6014', '6029', '6015', '6112', '6022', '6118', '6094', '6093', '6033', '6117']...['6071', '6792', '6096', '6247', '6248', '6249', '6250', '6251', '6253', '6791']\n",
      "Component 116: ['6048', '6051', '6110']\n",
      "Component 117: ['6342', '6782']\n",
      "Component 118: ['6343', '6787']\n",
      "Component 119: ['6437', '6454', '6457', '6459', '6461']\n",
      "Component 120: ['6438', '6439', '6478']\n",
      "Component 121: ['6450', '6474']\n",
      "Component 122: ['6452', '6464', '6453']\n",
      "Component 123: ['6462', '6483']\n",
      "Component 124: ['6463', '7161']\n",
      "Component 125: ['6774', '6777', '6778', '6779', '6775', '6776', '6780', '6781']\n",
      "Component 126: ['6783', '6784']\n",
      "Component 127: ['6785', '6786']\n",
      "Component 128: ['6789', '6790']\n",
      "Component 129: ['6862', '8583', '7253', '7254', '8581', '8582', '8578', '8580', '8574', '8577']...['8581', '8582', '8578', '8580', '8574', '8577', '8579', '8575', '8576', '8584']\n",
      "Component 130: ['6863', '6864', '7147', '7137', '7138', '7139', '7140', '7141', '7142', '7143']...['7142', '7143', '7144', '7145', '7146', '7148', '7149', '7150', '7151', '7508']\n",
      "Component 131: ['6869', '6874']\n",
      "Component 132: ['6949', '6954', '6950', '6951', '6955', '6957', '6952', '6956', '7101', '6953']\n",
      "Component 133: ['6968', '8652', '8653', '8654', '8655', '8656', '8657', '6969', '6971', '6970']...['8652', '8653', '8654', '8655', '8656', '8657', '6969', '6971', '6970', '6972']\n",
      "Component 134: ['6973', '7771', '7772']\n",
      "Component 135: ['7082', '7083']\n",
      "Component 136: ['7085', '7091']\n",
      "Component 137: ['7267', '7268', '7271', '7270']\n",
      "Component 138: ['7526', '7531', '7534']\n",
      "Component 139: ['7536', '7559', '7560', '7561', '7537', '7539', '7545', '7550', '7563', '7564']...['7562', '7551', '7552', '7546', '7547', '7548', '7549', '7542', '7543', '7553']\n",
      "Component 140: ['7570', '7571']\n",
      "Component 141: ['7588', '7589', '7592', '7590', '7591']\n",
      "Component 142: ['7752', '7753']\n",
      "Component 143: ['7834', '7835']\n",
      "Component 144: ['7853', '7854', '7855', '7858', '7859', '7860', '7861', '7862', '7856', '7864']...['7858', '7859', '7860', '7861', '7862', '7856', '7864', '7863', '7865', '7857']\n",
      "Component 145: ['7893', '7896', '7897', '7898', '7894', '7895']\n",
      "Component 146: ['7908', '7909']\n",
      "Component 147: ['8024', '8028', '8030', '8027', '8029', '8031']\n",
      "Component 148: ['8025', '8026']\n",
      "Component 149: ['8040', '8051', '8042']\n",
      "Component 150: ['8079', '8080']\n",
      "Component 151: ['8205', '8206', '8207']\n",
      "Component 152: ['8597', '8598']\n",
      "Component 153: ['8636', '8637', '8638']\n",
      "Component 154: ['8647', '8648', '8649', '8650', '8651']\n",
      "Component 155: ['8820', '8821']\n",
      "Component 156: ['8863', '8864']\n",
      "\n",
      "Connected components found in 0.01562 seconds\n"
     ]
    }
   ],
   "source": [
    "graph = inet_graph\n",
    "result = process_graph(graph)"
   ]
  },
  {
   "cell_type": "markdown",
   "metadata": {},
   "source": [
    "## Exercise 2: robustness to random failures"
   ]
  },
  {
   "cell_type": "markdown",
   "metadata": {},
   "source": [
    "### Question 3\n",
    "\n",
    "In this question, we plot the size of the LCC as a function of the number of nodes removed. \n",
    "\n",
    "Nodes are removed randomly. It is a way to evaluate the robustness of the network to random failures.\n",
    "\n",
    "Suggested implementation:\n",
    "\n",
    "- create a function that deletes $n_s$ nodes from the original graph\n",
    "\n",
    "- use the function of Question 2 to compute the size of the LCC\n",
    "\n",
    "- combine these two functions and iterate to get a dictionary which keys are $n_s$ and values are the corresponding size of the LCC\n",
    "\n",
    "\n"
   ]
  },
  {
   "cell_type": "code",
   "execution_count": 8,
   "metadata": {},
   "outputs": [],
   "source": [
    "def remove_nodes(graph, num_nodes_to_remove):\n",
    "    # Dictionary to store LCC sizes for each iteration\n",
    "    lcc_sizes = {}\n",
    "\n",
    "    # Loop through the specified number of nodes to remove\n",
    "    for ns in range(num_nodes_to_remove):\n",
    "        # Create a copy of the original graph to avoid modifying it directly\n",
    "        modified_graph = graph.copy()\n",
    "\n",
    "        # Remove ns nodes randomly from the graph\n",
    "        nodes_to_remove = random.sample(list(modified_graph.keys()), ns)\n",
    "\n",
    "        # Uncomment the next line to print the nodes being removed\n",
    "        # print(f\"Nodes to remove: {nodes_to_remove}\")\n",
    "\n",
    "        # Iterate through nodes to be removed and delete them from the graph\n",
    "        for node in nodes_to_remove:\n",
    "            # Check if the node exists before deleting it\n",
    "            if node in modified_graph:\n",
    "                del modified_graph[node]\n",
    "            else:\n",
    "                print(f\"Node {node} not found in the graph\")\n",
    "\n",
    "        # Calculate the size of the largest connected component (LCC)\n",
    "        components = connected_components(modified_graph)\n",
    "        largest_component = max(components, key=len)\n",
    "        lcc_sizes[ns] = len(largest_component)\n",
    "\n",
    "    # Return the dictionary of LCC sizes for each iteration\n",
    "    return lcc_sizes"
   ]
  },
  {
   "cell_type": "code",
   "execution_count": 9,
   "metadata": {},
   "outputs": [],
   "source": [
    "def test_remove_nodes(graph, num_nodes_to_remove):\n",
    "    start_time = time.time()\n",
    "    lcc_sizes_dict = remove_nodes(graph, num_nodes_to_remove)\n",
    "\n",
    "    # Print only the first 10 and last 10 items\n",
    "    print(\"First 10 items:\")\n",
    "    for ns, size in list(lcc_sizes_dict.items())[:10]:\n",
    "        print(f\"Nodes Removed: {ns}, LCC Size: {size}\")\n",
    "\n",
    "    print(\"\\nLast 10 items:\")\n",
    "    for ns, size in list(lcc_sizes_dict.items())[-10:]:\n",
    "        print(f\"Nodes Removed: {ns}, LCC Size: {size}\")\n",
    "\n",
    "    print(f\"\\nExecution done in {time.time() - start_time:.5f} seconds\")"
   ]
  },
  {
   "cell_type": "code",
   "execution_count": 10,
   "metadata": {},
   "outputs": [
    {
     "name": "stdout",
     "output_type": "stream",
     "text": [
      "First 10 items:\n",
      "Nodes Removed: 0, LCC Size: 8557\n",
      "Nodes Removed: 1, LCC Size: 8554\n",
      "Nodes Removed: 2, LCC Size: 8552\n",
      "Nodes Removed: 3, LCC Size: 8550\n",
      "Nodes Removed: 4, LCC Size: 8554\n",
      "Nodes Removed: 5, LCC Size: 8551\n",
      "Nodes Removed: 6, LCC Size: 8548\n",
      "Nodes Removed: 7, LCC Size: 8541\n",
      "Nodes Removed: 8, LCC Size: 8552\n",
      "Nodes Removed: 9, LCC Size: 8551\n",
      "\n",
      "Last 10 items:\n",
      "Nodes Removed: 90, LCC Size: 8357\n",
      "Nodes Removed: 91, LCC Size: 8159\n",
      "Nodes Removed: 92, LCC Size: 8438\n",
      "Nodes Removed: 93, LCC Size: 8443\n",
      "Nodes Removed: 94, LCC Size: 8351\n",
      "Nodes Removed: 95, LCC Size: 8281\n",
      "Nodes Removed: 96, LCC Size: 8346\n",
      "Nodes Removed: 97, LCC Size: 8414\n",
      "Nodes Removed: 98, LCC Size: 8328\n",
      "Nodes Removed: 99, LCC Size: 8406\n",
      "\n",
      "Execution done in 1.41585 seconds\n"
     ]
    }
   ],
   "source": [
    "graph = inet_graph\n",
    "num_nodes_to_remove = 100\n",
    "result = test_remove_nodes(graph, num_nodes_to_remove)"
   ]
  },
  {
   "cell_type": "markdown",
   "metadata": {},
   "source": [
    "## Exercise 3: robustness to targeted (degree-based) failures "
   ]
  },
  {
   "cell_type": "markdown",
   "metadata": {},
   "source": [
    "### Question 4\n",
    "\n",
    "In this question, we do the same as in the previous question, except for the fact that nodes are not chosen randomly, but by decreasing degree order.\n",
    "\n",
    "Suggested implementation:\n",
    "\n",
    "- create a function that outputs a list of nodes ordered by decreasing degree\n",
    "\n",
    "- then follow the same principle as in the previous question"
   ]
  },
  {
   "cell_type": "code",
   "execution_count": 11,
   "metadata": {},
   "outputs": [],
   "source": [
    "def nodes_by_degree(graph):\n",
    "    # Sort nodes by their degree in descending order\n",
    "    sorted_nodes = sorted(graph, key=lambda x: len(graph[x]), reverse=True)\n",
    "    return sorted_nodes"
   ]
  },
  {
   "cell_type": "code",
   "execution_count": 12,
   "metadata": {},
   "outputs": [],
   "source": [
    "def remove_nodes_by_degree(graph, num_nodes_to_remove):\n",
    "    # Dictionary to store LCC sizes for each iteration\n",
    "    lcc_sizes = {}\n",
    "\n",
    "    # Get nodes ordered by decreasing degree\n",
    "    nodes_ordered_by_degree = nodes_by_degree(graph)\n",
    "\n",
    "    # Loop through the specified number of nodes to remove\n",
    "    for ns in range(num_nodes_to_remove):\n",
    "        # Create a copy of the original graph to avoid modifying it directly\n",
    "        modified_graph = graph.copy()\n",
    "\n",
    "        # Remove ns nodes from the graph in decreasing degree order\n",
    "        nodes_to_remove = nodes_ordered_by_degree[:ns]\n",
    "\n",
    "        # Iterate through nodes to be removed and delete them from the graph\n",
    "        for node in nodes_to_remove:\n",
    "            # Check if the node exists before deleting it\n",
    "            if node in modified_graph:\n",
    "                del modified_graph[node]\n",
    "\n",
    "        # Calculate the size of the largest connected component (LCC)\n",
    "        components = connected_components(modified_graph)\n",
    "        largest_component = max(components, key=len)\n",
    "        lcc_sizes[ns] = len(largest_component)\n",
    "\n",
    "    # Return the dictionary of LCC sizes for each iteration\n",
    "    return lcc_sizes"
   ]
  },
  {
   "cell_type": "code",
   "execution_count": 13,
   "metadata": {},
   "outputs": [],
   "source": [
    "def test_remove_nodes_by_degree(graph, num_nodes_to_remove):\n",
    "    start_time = time.time()\n",
    "    lcc_sizes_dict = remove_nodes_by_degree(graph, num_nodes_to_remove)\n",
    "\n",
    "    # Print only the first 10 and last 10 items\n",
    "    print(\"First 10 items:\")\n",
    "    for ns, size in list(lcc_sizes_dict.items())[:10]:\n",
    "        print(f\"Nodes Removed: {ns}, LCC Size: {size}\")\n",
    "\n",
    "    print(\"\\nLast 10 items:\")\n",
    "    for ns, size in list(lcc_sizes_dict.items())[-10:]:\n",
    "        print(f\"Nodes Removed: {ns}, LCC Size: {size}\")\n",
    "\n",
    "    print(f\"\\nExecution done in {time.time() - start_time:.5f} seconds\")"
   ]
  },
  {
   "cell_type": "code",
   "execution_count": 14,
   "metadata": {},
   "outputs": [
    {
     "name": "stdout",
     "output_type": "stream",
     "text": [
      "First 10 items:\n",
      "Nodes Removed: 0, LCC Size: 8557\n",
      "Nodes Removed: 1, LCC Size: 8556\n",
      "Nodes Removed: 2, LCC Size: 8497\n",
      "Nodes Removed: 3, LCC Size: 8497\n",
      "Nodes Removed: 4, LCC Size: 8497\n",
      "Nodes Removed: 5, LCC Size: 8497\n",
      "Nodes Removed: 6, LCC Size: 8497\n",
      "Nodes Removed: 7, LCC Size: 8497\n",
      "Nodes Removed: 8, LCC Size: 8497\n",
      "Nodes Removed: 9, LCC Size: 8497\n",
      "\n",
      "Last 10 items:\n",
      "Nodes Removed: 90, LCC Size: 8281\n",
      "Nodes Removed: 91, LCC Size: 8281\n",
      "Nodes Removed: 92, LCC Size: 8281\n",
      "Nodes Removed: 93, LCC Size: 8281\n",
      "Nodes Removed: 94, LCC Size: 8281\n",
      "Nodes Removed: 95, LCC Size: 8281\n",
      "Nodes Removed: 96, LCC Size: 8281\n",
      "Nodes Removed: 97, LCC Size: 8281\n",
      "Nodes Removed: 98, LCC Size: 8281\n",
      "Nodes Removed: 99, LCC Size: 8281\n",
      "\n",
      "Execution done in 1.45634 seconds\n"
     ]
    }
   ],
   "source": [
    "graph = inet_graph  \n",
    "num_nodes_to_remove = 100\n",
    "result = test_remove_nodes_by_degree(graph, num_nodes_to_remove)"
   ]
  },
  {
   "cell_type": "markdown",
   "metadata": {},
   "source": [
    "### Question 5\n",
    "\n",
    "Compare the two curves (random deletions and targeted deletions): are they different? What does it mean?"
   ]
  },
  {
   "cell_type": "code",
   "execution_count": 17,
   "metadata": {},
   "outputs": [],
   "source": [
    "def plot_graph_random_targeted(graph, num_nodes_to_remove):\n",
    "    # Calculate the LCC sizes for random deletions\n",
    "    random_deletions = remove_nodes(graph, num_nodes_to_remove)\n",
    "\n",
    "    # Calculate the LCC sizes for targeted deletions\n",
    "    targeted_deletions = remove_nodes_by_degree(graph, num_nodes_to_remove)\n",
    "\n",
    "    # Set up the plot figure\n",
    "    plt.figure(figsize=(10, 6))\n",
    "\n",
    "    # Extract the x and y values for each curve\n",
    "    x_random = list(random_deletions.keys())\n",
    "    y_random = list(random_deletions.values())\n",
    "\n",
    "    x_targeted = list(targeted_deletions.keys())\n",
    "    y_targeted = list(targeted_deletions.values())\n",
    "\n",
    "    # Plot the curves for random and targeted deletions\n",
    "    plt.plot(x_random, y_random, label='Random Deletions')\n",
    "    plt.plot(x_targeted, y_targeted, label='Targeted Deletions')\n",
    "\n",
    "    # Add labels and title to the plot\n",
    "    plt.xlabel('Number of Nodes Removed')\n",
    "    plt.ylabel('Size of Largest Connected Component (LCC)')\n",
    "    plt.title('Comparison of Random Deletions and Targeted Deletions')\n",
    "\n",
    "    # Add a legend to distinguish the curves\n",
    "    plt.legend()\n",
    "\n",
    "    # Display the plot\n",
    "    plt.show()"
   ]
  },
  {
   "cell_type": "code",
   "execution_count": 18,
   "metadata": {},
   "outputs": [
    {
     "data": {
      "image/png": "[encoded data removed]",
      "text/plain": [
       "<Figure size 1000x600 with 1 Axes>"
      ]
     },
     "metadata": {},
     "output_type": "display_data"
    }
   ],
   "source": [
    "graph = inet_graph\n",
    "num_nodes_to_remove = 100\n",
    "result = plot_graph_random_targeted(graph, num_nodes_to_remove)"
   ]
  },
  {
   "cell_type": "markdown",
   "metadata": {},
   "source": [
    "### Answer: \n",
    "Comparing the graphs for random deletions and targeted deletions can give us an idea on how the network structure responds to different node removal strategies.\n",
    "\n",
    "#### Random Deletions:\n",
    "\n",
    "The graph for random deletions will most likely show a gradual decline in the size of the Largest Connected Component (LCC) as more nodes are removed.    \n",
    "Random deletions represents a scenario where nodes fail randomly in the network. If the decline is gradual, we can suppose that the network is more or less robust to random failures, we can the conclude that the network is resilient to the loss of nodes.\n",
    "    \n",
    "#### Targeted Deletions (Decreasing Degree Order):\n",
    "\n",
    "The graph for targeted deletions will show us a more immediate decline compared to the previous strategy, random deletions.    \n",
    "Targeted deletions in decreasing degree order simulate a scenario where nodes with many connections are specifically removed. If the decline is sudden, it indicates that the network is sensitive to the removal of high-degree nodes.    \n",
    "This might mean that the network has a core structure which depends heavily on high-degree nodes, and their removal has a significant impact on connectivity.\n",
    "\n",
    "#### Comparison:\n",
    "\n",
    "If the line for targeted deletions drops more quickly than the line for random deletions, it is safe to assume that the network is more vulnerable to the removal of high-degree nodes than to random node failures.\n",
    "If both lines drop similarly, it might tell us that the network's robustness is not strongly affected by the degree distribution.\n",
    "In conclusion, this comparison helps us understand how the network's structure changes its robustness to different types of failures. It tells us whether the network is more resilient to random failures or whether it has critical nodes that, when removed strategically, lead to a more significant degradation on connectivity."
   ]
  },
  {
   "cell_type": "markdown",
   "metadata": {},
   "source": [
    "### Question 6\n",
    "\n",
    "Do the same thing but now with targeted (closeness and betweenness based) failures\n"
   ]
  },
  {
   "cell_type": "code",
   "execution_count": 19,
   "metadata": {},
   "outputs": [],
   "source": [
    "def closeness_centrality(graph, node, component_set):\n",
    "    # Check if the component_set has more than one node\n",
    "    if len(component_set) > 1:\n",
    "        # If there are multiple nodes in the component_set, calculate closeness centrality\n",
    "        # Closeness centrality is defined as the reciprocal of the sum of distances to all other nodes in the component_set\n",
    "        # (excluding the current node)\n",
    "        return 1 / sum(1 for neigh in component_set if neigh != node)\n",
    "    else:\n",
    "        # If there is only one node in the component_set, closeness centrality is 0\n",
    "        return 0"
   ]
  },
  {
   "cell_type": "code",
   "execution_count": 20,
   "metadata": {},
   "outputs": [],
   "source": [
    "def nodes_by_closeness(graph):\n",
    "    # Sort nodes in the graph based on their closeness centrality in descending order\n",
    "    # The key for sorting is the closeness_centrality function applied to each node\n",
    "    # Closeness centrality is calculated for each node using the set of its neighbors in the graph\n",
    "    return sorted(graph, key=lambda x: closeness_centrality(graph, x, set(graph[x])), reverse=True)\n"
   ]
  },
  {
   "cell_type": "code",
   "execution_count": 21,
   "metadata": {},
   "outputs": [],
   "source": [
    "def remove_nodes_by_closeness(graph, num_nodes_to_remove):\n",
    "    # Dictionary to store the sizes of the largest connected components (LCC) after each removal\n",
    "    lcc_sizes = {}\n",
    "\n",
    "    # Loop through the specified number of nodes to remove\n",
    "    for ns in range(num_nodes_to_remove):\n",
    "        # Create a modified graph where each node is removed from its own neighbors\n",
    "        modified_graph = {node: set(neighbors) - {node} for node, neighbors in graph.items()}\n",
    "\n",
    "        # Get nodes ordered by closeness centrality in the modified graph\n",
    "        nodes_ordered_by_closeness = nodes_by_closeness(modified_graph)\n",
    "        \n",
    "        # Select nodes to remove based on their closeness centrality order\n",
    "        nodes_to_remove = nodes_ordered_by_closeness[:ns]\n",
    "\n",
    "        # Remove selected nodes from the modified graph\n",
    "        for node in nodes_to_remove:\n",
    "            if node in modified_graph:\n",
    "                del modified_graph[node]\n",
    "                # Update neighbors of remaining nodes to exclude the removed node\n",
    "                for neighbors in modified_graph.values():\n",
    "                    neighbors.discard(node)\n",
    "\n",
    "        # Find connected components in the modified graph\n",
    "        components = connected_components(modified_graph)\n",
    "\n",
    "        # Find the largest connected component\n",
    "        largest_component = max(components, key=len)\n",
    "\n",
    "        # Store the size of the largest connected component after the current removal\n",
    "        lcc_sizes[ns] = len(largest_component)\n",
    "\n",
    "    # Return the dictionary containing the sizes of the largest connected components after each removal\n",
    "    return lcc_sizes"
   ]
  },
  {
   "cell_type": "code",
   "execution_count": 22,
   "metadata": {},
   "outputs": [],
   "source": [
    "def test_remove_nodes_by_closeness(graph, num_nodes_to_remove):\n",
    "    start_time = time.time()\n",
    "    lcc_sizes_dict = remove_nodes_by_closeness(graph, num_nodes_to_remove)\n",
    "\n",
    "    # Print only the first 10 and last 10 items\n",
    "    print(\"First 10 items:\")\n",
    "    for ns, size in list(lcc_sizes_dict.items())[:10]:\n",
    "        print(f\"Nodes Removed: {ns}, LCC Size: {size}\")\n",
    "\n",
    "    print(\"\\nLast 10 items:\")\n",
    "    for ns, size in list(lcc_sizes_dict.items())[-10:]:\n",
    "        print(f\"Nodes Removed: {ns}, LCC Size: {size}\")\n",
    "\n",
    "    print(f\"\\nExecution done in {time.time() - start_time:.5f} seconds\")"
   ]
  },
  {
   "cell_type": "code",
   "execution_count": 23,
   "metadata": {},
   "outputs": [
    {
     "name": "stdout",
     "output_type": "stream",
     "text": [
      "First 10 items:\n",
      "Nodes Removed: 0, LCC Size: 8557\n",
      "Nodes Removed: 1, LCC Size: 8556\n",
      "Nodes Removed: 2, LCC Size: 8555\n",
      "Nodes Removed: 3, LCC Size: 8554\n",
      "Nodes Removed: 4, LCC Size: 8553\n",
      "Nodes Removed: 5, LCC Size: 8552\n",
      "Nodes Removed: 6, LCC Size: 8552\n",
      "Nodes Removed: 7, LCC Size: 8552\n",
      "Nodes Removed: 8, LCC Size: 8552\n",
      "Nodes Removed: 9, LCC Size: 8552\n",
      "\n",
      "Last 10 items:\n",
      "Nodes Removed: 90, LCC Size: 8453\n",
      "Nodes Removed: 91, LCC Size: 8452\n",
      "Nodes Removed: 92, LCC Size: 8450\n",
      "Nodes Removed: 93, LCC Size: 8448\n",
      "Nodes Removed: 94, LCC Size: 8446\n",
      "Nodes Removed: 95, LCC Size: 8445\n",
      "Nodes Removed: 96, LCC Size: 8444\n",
      "Nodes Removed: 97, LCC Size: 8443\n",
      "Nodes Removed: 98, LCC Size: 8442\n",
      "Nodes Removed: 99, LCC Size: 8441\n",
      "\n",
      "Execution done in 7.90215 seconds\n"
     ]
    }
   ],
   "source": [
    "# This time the graph is not as heavy as the graphs from the previous lab session\n",
    "graph = inet_graph  \n",
    "num_nodes_to_remove = 100\n",
    "result = test_remove_nodes_by_closeness(graph, num_nodes_to_remove)"
   ]
  },
  {
   "cell_type": "code",
   "execution_count": null,
   "metadata": {},
   "outputs": [],
   "source": []
  },
  {
   "cell_type": "markdown",
   "metadata": {},
   "source": [
    "### Question 7\n",
    "\n",
    "Which measure is the fastest one to disconnect the network?\n"
   ]
  },
  {
   "cell_type": "markdown",
   "metadata": {},
   "source": [
    "The fastest measure to disconnect a network in the context of a network's robustness is to remove the node with the highest centrality. Centrality is a measure of how important a node is to the overall network structure. There are many different centrality measures, but some of the most common ones include degree centrality, betweenness centrality, and closeness centrality.\n",
    "\n",
    "Degree centrality is the simplest measure of centrality, and it is simply the number of links that a node has to other nodes. Betweenness centrality measures how often a node lies on the shortest path between two other nodes. Closeness centrality measures how close a node is to all other nodes in the network.\n",
    "\n",
    "Removing the node with the highest centrality is likely to have the most disruptive effect on the network, as it will disconnect the largest number of other nodes. This is because the node with the highest centrality is likely to be a hub, meaning that it has many connections to other nodes.\n",
    "\n",
    "However, it is important to note that the fastest measure to disconnect a network may not always be the most effective measure. For example, if the node with the highest centrality is a critical node in the network, such as a router or server, removing it may cause the entire network to fail. In such cases, it may be better to remove a different node, even if it is not the most central node."
   ]
  }
 ],
 "metadata": {
  "kernelspec": {
   "display_name": "Python 3 (ipykernel)",
   "language": "python",
   "name": "python3"
  },
  "language_info": {
   "codemirror_mode": {
    "name": "ipython",
    "version": 3
   },
   "file_extension": ".py",
   "mimetype": "text/x-python",
   "name": "python",
   "nbconvert_exporter": "python",
   "pygments_lexer": "ipython3",
   "version": "3.7.11"
  }
 },
 "nbformat": 4,
 "nbformat_minor": 2
}
